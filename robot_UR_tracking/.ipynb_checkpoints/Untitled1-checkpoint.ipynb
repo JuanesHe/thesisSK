{
 "cells": [
  {
   "cell_type": "code",
   "execution_count": 5,
   "metadata": {},
   "outputs": [
    {
     "name": "stderr",
     "output_type": "stream",
     "text": [
      "tried 11 times to find a packet in data, advertised packet size: -2, type: 3\n",
      "Data length: 68\n",
      "tried 11 times to find a packet in data, advertised packet size: -2, type: 3\n",
      "Data length: 1092\n",
      "tried 11 times to find a packet in data, advertised packet size: -2, type: 3\n",
      "Data length: 1418\n"
     ]
    },
    {
     "name": "stdout",
     "output_type": "stream",
     "text": [
      "Transformation from base to tcp is:  <Transform:\n",
      "<Orientation: \n",
      "array([[ 0.17261042,  0.97183326, -0.16045485],\n",
      "       [ 0.97556855, -0.19115297, -0.10828915],\n",
      "       [-0.13591042, -0.13784287, -0.98108496]])>\n",
      "<Vector: (-0.28008, 0.03972, 0.34898)>\n",
      ">\n",
      "Transformation from base to tcp is:  [-0.28007913509902593, 0.039716748846665, 0.3489833400852145, -2.3906785696080983, -1.9854639043507925, 0.30215774223660946]\n"
     ]
    }
   ],
   "source": [
    "import urx\n",
    "rob = urx.Robot(\"192.168.88.249\")\n",
    "initj = rob.getl()\n",
    "xrob = initj[0];\n",
    "#print(\"Initial joint configuration is \", initj)\n",
    "\n",
    "j = rob.getj()\n",
    "#print(\"Initial joint configuration is \", j)\n",
    "t = rob.get_pose()\n",
    "print(\"Transformation from base to tcp is: \", t)\n",
    "\n",
    "t = rob.getl()\n",
    "print(\"Transformation from base to tcp is: \", t)\n",
    "\n"
   ]
  },
  {
   "cell_type": "code",
   "execution_count": 32,
   "metadata": {},
   "outputs": [],
   "source": [
    "rob.speedl((0 , 0 , 0 , 0, 0, 0), acc=0.3, min_time=3)"
   ]
  },
  {
   "cell_type": "code",
   "execution_count": 2,
   "metadata": {},
   "outputs": [
    {
     "name": "stdout",
     "output_type": "stream",
     "text": [
      "D:\\PROGRAMAS\\anaconda\\lib\\site-packages\\urx\\__init__.py\n"
     ]
    }
   ],
   "source": [
    "print(urx.__file__)"
   ]
  },
  {
   "cell_type": "code",
   "execution_count": 7,
   "metadata": {},
   "outputs": [
    {
     "name": "stdout",
     "output_type": "stream",
     "text": [
      "Requirement already satisfied: urx in d:\\programas\\anaconda\\lib\\site-packages (0.11.0)\n",
      "Requirement already satisfied: math3d in d:\\programas\\anaconda\\lib\\site-packages (from urx) (3.3.5)\n",
      "Note: you may need to restart the kernel to use updated packages.\n"
     ]
    }
   ],
   "source": [
    "pip install urx"
   ]
  },
  {
   "cell_type": "code",
   "execution_count": 6,
   "metadata": {},
   "outputs": [
    {
     "name": "stdout",
     "output_type": "stream",
     "text": [
      "[-2.890125576649801, -1.3681228796588343, -1.6626938025103968, 4.785619735717773, 1.6386256217956543, -18.411745589955736]\n"
     ]
    },
    {
     "name": "stderr",
     "output_type": "stream",
     "text": [
      "Exception in thread Thread-10:\n",
      "Traceback (most recent call last):\n",
      "  File \"D:\\PROGRAMAS\\anaconda\\lib\\threading.py\", line 917, in _bootstrap_inner\n",
      "    self.run()\n",
      "  File \"D:\\PROGRAMAS\\anaconda\\lib\\site-packages\\urx\\ursecmon.py\", line 286, in run\n",
      "    data = self._get_data()\n",
      "  File \"D:\\PROGRAMAS\\anaconda\\lib\\site-packages\\urx\\ursecmon.py\", line 333, in _get_data\n",
      "    tmp = self._s_secondary.recv(1024)\n",
      "socket.timeout: timed out\n",
      "\n"
     ]
    }
   ],
   "source": [
    "print(j)"
   ]
  },
  {
   "cell_type": "code",
   "execution_count": null,
   "metadata": {},
   "outputs": [],
   "source": []
  }
 ],
 "metadata": {
  "kernelspec": {
   "display_name": "Python 3",
   "language": "python",
   "name": "python3"
  },
  "language_info": {
   "codemirror_mode": {
    "name": "ipython",
    "version": 3
   },
   "file_extension": ".py",
   "mimetype": "text/x-python",
   "name": "python",
   "nbconvert_exporter": "python",
   "pygments_lexer": "ipython3",
   "version": "3.7.3"
  }
 },
 "nbformat": 4,
 "nbformat_minor": 2
}
