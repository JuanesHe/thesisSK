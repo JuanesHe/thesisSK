{
 "cells": [
  {
   "cell_type": "code",
   "execution_count": null,
   "metadata": {},
   "outputs": [],
   "source": [
    "import socket\n",
    "import struct"
   ]
  },
  {
   "cell_type": "code",
   "execution_count": null,
   "metadata": {},
   "outputs": [],
   "source": [
    "localIP     = \"172.31.1.57\"\n",
    "localPort   = 30001\n",
    "bufferSize  = 1024"
   ]
  },
  {
   "cell_type": "code",
   "execution_count": null,
   "metadata": {},
   "outputs": [],
   "source": [
    "msgFromServer       = \"Hola\"\n",
    "bytesToSend         = str.encode(msgFromServer)"
   ]
  },
  {
   "cell_type": "code",
   "execution_count": null,
   "metadata": {},
   "outputs": [],
   "source": [
    "# Create a datagram socket\n",
    "\n",
    "UDPServerSocket = socket.socket(family=socket.AF_INET, type=socket.SOCK_DGRAM)\n",
    "# Bind to address and ip\n",
    "UDPServerSocket.bind((localIP, localPort))\n",
    "print(\"UDP server up and listening\")\n",
    "# Listen for incoming datagrams"
   ]
  },
  {
   "cell_type": "code",
   "execution_count": null,
   "metadata": {},
   "outputs": [],
   "source": [
    "while(True):\n",
    "\n",
    "    bytesAddressPair = UDPServerSocket.recvfrom(bufferSize)\n",
    "\n",
    "    message = bytesAddressPair[0]\n",
    "\n",
    "    address = bytesAddressPair[1]\n",
    "\n",
    "    clientMsg = \"{}\".format(message)\n",
    "    \n",
    "    clientIP  = \"{}\".format(address)\n",
    "    \n",
    "    print(clientMsg)\n",
    "    \n",
    "    print(clientIP)\n",
    "\n",
    "    if clientMsg == \"b'cmdx'\":\n",
    "        print(\"Send Value\")\n",
    "        value = 10\n",
    "        ba = bytearray(struct.pack(\"f\", value))\n",
    "    elif clientMsg == \"b'cmdy'\":\n",
    "        print(\"Send Value\")\n",
    "        value = 10.3\n",
    "        ba = bytearray(struct.pack(\"f\", value))    \n",
    "    elif clientMsg == \"b'cmdz'\":\n",
    "        print(\"Send Value\")\n",
    "        value = 4.3\n",
    "        ba = bytearray(struct.pack(\"f\", value))  \n",
    "    elif clientMsg == \"b'Mode'\":\n",
    "        ba = b'Man'\n",
    "        print(\"Send Value\")\n",
    "          \n",
    "    else :\n",
    "        print(\"Send\")\n",
    "\n",
    "\n",
    "\n",
    "    UDPServerSocket.sendto(ba, address)\n",
    "    print(\"Send Value\")\n",
    "\n",
    "    # Sending a reply to client"
   ]
  },
  {
   "cell_type": "code",
   "execution_count": null,
   "metadata": {},
   "outputs": [],
   "source": []
  },
  {
   "cell_type": "code",
   "execution_count": null,
   "metadata": {},
   "outputs": [],
   "source": []
  },
  {
   "cell_type": "code",
   "execution_count": 1,
   "metadata": {},
   "outputs": [
    {
     "name": "stdout",
     "output_type": "stream",
     "text": [
      "Found 2 Tracking References\n",
      "  tracking_reference_1 (LHB-6F2F8631, Mode HTC V2-XD/XE, HTC V2-XD/XE)\n",
      "  tracking_reference_2 (LHB-C4B9F64D, Mode HTC V2-XD/XE, HTC V2-XD/XE)\n",
      "Found 1 HMD\n",
      "  hmd_1 (LHR-4FC8FD77, Vive MV)\n",
      "Found 1 Controller\n",
      "  controller_1 (LHR-FF6D7B44, Vive Controller MV)\n",
      "Found 0 Trackers\n",
      "Invalid number of arguments\n"
     ]
    }
   ],
   "source": [
    "import triad_openvr\n",
    "import time\n",
    "import sys\n",
    "\n",
    "v = triad_openvr.triad_openvr()\n",
    "v.print_discovered_objects()\n",
    "\n",
    "if len(sys.argv) == 1:\n",
    "    interval = 1/250\n",
    "elif len(sys.argv) == 2:\n",
    "    interval = 1/float(sys.argv[1])\n",
    "else:\n",
    "    print(\"Invalid number of arguments\")\n",
    "    interval = False\n",
    "    \n",
    "if interval:\n",
    "    while(True):\n",
    "        start = time.time()\n",
    "        txt = \"\"\n",
    "        for each in v.devices[\"tracker_1\"].get_pose_euler():\n",
    "            txt += \"%.4f\" % each\n",
    "            txt += \" \"\n",
    "        print(\"\\r\" + txt, end=\"\")\n",
    "        sleep_time = interval-(time.time()-start)\n",
    "        if sleep_time>0:\n",
    "            time.sleep(sleep_time)"
   ]
  },
  {
   "cell_type": "code",
   "execution_count": null,
   "metadata": {},
   "outputs": [],
   "source": [
    "import triad_openvr as vr\n",
    "import pylab as plt\n",
    "import time\n",
    "import sys\n",
    "import numpy as np\n",
    "x=np.zeros(300)\n",
    "y=np.zeros(300)\n",
    "z=np.zeros(300)\n",
    "t=np.zeros(300)\n",
    "t[0]=0"
   ]
  },
  {
   "cell_type": "code",
   "execution_count": null,
   "metadata": {},
   "outputs": [],
   "source": [
    "v = vr.triad_openvr()\n",
    "data = v.devices[\"controller_2\"].sample(1,200)\n",
    "b=data.x+data.y+data.z\n",
    "del v\n",
    "print (b)"
   ]
  },
  {
   "cell_type": "code",
   "execution_count": null,
   "metadata": {},
   "outputs": [],
   "source": [
    "n=100\n",
    "x=np.zeros(n)\n",
    "y=np.zeros(n)\n",
    "z=np.zeros(n)\n",
    "t=np.zeros(n)\n",
    "t[0]=0\n",
    "\n",
    "for i in range(n):\n",
    "    tiempoi = time.time() \n",
    "    v = vr.triad_openvr()\n",
    "    data = v.devices[\"controller_2\"].sample(1,2000)\n",
    "    a=data.x+data.y+data.z\n",
    "    x[i]=a[0]-b[0]\n",
    "    y[i]=a[1]-b[1]\n",
    "    z[i]=a[2]-b[2]\n",
    "    del v\n",
    "    tiempof = time.time() \n",
    "    tiempoe = tiempof - tiempoi\n",
    "    t[i]=t[i-1]+tiempoe\n",
    "    print(str(data.x) + \" \" + str(data.y) + \" \" + str(data.z) + \" \" + str(tiempoe))\n",
    "    print(str(x[i]*1000) + \" \" + str(y[i]*1000) + \" \" + str(z[i]*1000) + \" \" + str(tiempoe))"
   ]
  },
  {
   "cell_type": "code",
   "execution_count": null,
   "metadata": {},
   "outputs": [],
   "source": [
    "plt.plot(t,x) "
   ]
  },
  {
   "cell_type": "code",
   "execution_count": null,
   "metadata": {},
   "outputs": [],
   "source": [
    "plt.plot(t,y) "
   ]
  },
  {
   "cell_type": "code",
   "execution_count": null,
   "metadata": {},
   "outputs": [],
   "source": [
    "plt.plot(t,z) "
   ]
  },
  {
   "cell_type": "code",
   "execution_count": null,
   "metadata": {},
   "outputs": [],
   "source": [
    "plt.plot(x,z) "
   ]
  },
  {
   "cell_type": "code",
   "execution_count": null,
   "metadata": {},
   "outputs": [],
   "source": [
    "type(data.x)"
   ]
  },
  {
   "cell_type": "code",
   "execution_count": null,
   "metadata": {},
   "outputs": [],
   "source": [
    "type(a[0])\n"
   ]
  },
  {
   "cell_type": "code",
   "execution_count": null,
   "metadata": {},
   "outputs": [],
   "source": []
  },
  {
   "cell_type": "code",
   "execution_count": null,
   "metadata": {},
   "outputs": [],
   "source": [
    "print(data.time)"
   ]
  },
  {
   "cell_type": "code",
   "execution_count": null,
   "metadata": {},
   "outputs": [],
   "source": [
    "plt.plot(data.time,data.x)\n",
    "plt.title('Controller X Coordinate')\n",
    "plt.xlabel('Time (seconds)')\n",
    "plt.ylabel('X Coordinate (meters)')"
   ]
  },
  {
   "cell_type": "code",
   "execution_count": null,
   "metadata": {},
   "outputs": [],
   "source": []
  },
  {
   "cell_type": "code",
   "execution_count": null,
   "metadata": {},
   "outputs": [],
   "source": [
    "\n",
    "import triad_openvr\n",
    "import time\n",
    "import sys\n",
    "\n",
    "v = triad_openvr.triad_openvr()\n",
    "v.print_discovered_objects()\n",
    "\n",
    "if len(sys.argv) == 1:\n",
    "    interval = 1/250\n",
    "elif len(sys.argv) == 2:\n",
    "    interval = 1/float(sys.argv[1])\n",
    "else:\n",
    "    print(\"Invalid number of arguments\")\n",
    "    interval = False\n",
    "    \n",
    "if interval:\n",
    "    while(True):\n",
    "        start = time.time()\n",
    "        txt = \"\"\n",
    "        for each in v.devices[\"tracker_1\"].get_pose_euler():\n",
    "            txt += \"%.4f\" % each\n",
    "            txt += \" \"\n",
    "        print(\"\\r\" + txt, end=\"\")\n",
    "        sleep_time = interval-(time.time()-start)\n",
    "        if sleep_time>0:\n",
    "            time.sleep(sleep_time)"
   ]
  },
  {
   "cell_type": "code",
   "execution_count": null,
   "metadata": {},
   "outputs": [],
   "source": [
    "import triad_openvr as vr\n",
    "import pylab as plt\n",
    "import time\n",
    "import sys\n",
    "\n",
    "for i in range(100):\n",
    "    v = vr.triad_openvr()\n",
    "    data = v.devices[\"controller_1\"].sample(1000,25)\n",
    "    plt.plot(data.time,data.x)\n",
    "    time.sleep(0.1)\n"
   ]
  },
  {
   "cell_type": "code",
   "execution_count": null,
   "metadata": {},
   "outputs": [],
   "source": []
  },
  {
   "cell_type": "code",
   "execution_count": null,
   "metadata": {},
   "outputs": [],
   "source": []
  },
  {
   "cell_type": "code",
   "execution_count": null,
   "metadata": {},
   "outputs": [],
   "source": []
  }
 ],
 "metadata": {
  "kernelspec": {
   "display_name": "Python 3",
   "language": "python",
   "name": "python3"
  },
  "language_info": {
   "codemirror_mode": {
    "name": "ipython",
    "version": 3
   },
   "file_extension": ".py",
   "mimetype": "text/x-python",
   "name": "python",
   "nbconvert_exporter": "python",
   "pygments_lexer": "ipython3",
   "version": "3.7.3"
  }
 },
 "nbformat": 4,
 "nbformat_minor": 2
}
