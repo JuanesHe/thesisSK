{
 "cells": [
  {
   "cell_type": "code",
   "execution_count": 3,
   "metadata": {
    "scrolled": true
   },
   "outputs": [
    {
     "name": "stderr",
     "output_type": "stream",
     "text": [
      "tried 11 times to find a packet in data, advertised packet size: -2, type: 3\n",
      "Data length: 68\n",
      "tried 11 times to find a packet in data, advertised packet size: -2, type: 3\n",
      "Data length: 1092\n",
      "tried 11 times to find a packet in data, advertised packet size: -2, type: 3\n",
      "Data length: 1418\n"
     ]
    },
    {
     "name": "stdout",
     "output_type": "stream",
     "text": [
      "Transformation from base to tcp is:  <Transform:\n",
      "<Orientation: \n",
      "array([[-0.12169726, -0.12065652,  0.98520647],\n",
      "       [ 0.9327302 , -0.35332482,  0.07194407],\n",
      "       [ 0.33941737,  0.92768722,  0.15553864]])>\n",
      "<Vector: (0.40367, -0.07464, 0.43168)>\n",
      ">\n",
      "Transformation from base to tcp is:  [0.40366805769710373, -0.07464364266085327, 0.4316831776895901, 1.304563879702318, 0.984492979888433, 1.605867680151408]\n"
     ]
    },
    {
     "name": "stderr",
     "output_type": "stream",
     "text": [
      "Exception in thread Thread-8:\n",
      "Traceback (most recent call last):\n",
      "  File \"D:\\PROGRAMAS\\anaconda\\lib\\threading.py\", line 917, in _bootstrap_inner\n",
      "    self.run()\n",
      "  File \"D:\\PROGRAMAS\\anaconda\\lib\\site-packages\\urx\\ursecmon.py\", line 286, in run\n",
      "    data = self._get_data()\n",
      "  File \"D:\\PROGRAMAS\\anaconda\\lib\\site-packages\\urx\\ursecmon.py\", line 333, in _get_data\n",
      "    tmp = self._s_secondary.recv(1024)\n",
      "socket.timeout: timed out\n",
      "Exception in thread Thread-7:\n",
      "Traceback (most recent call last):\n",
      "  File \"D:\\PROGRAMAS\\anaconda\\lib\\threading.py\", line 917, in _bootstrap_inner\n",
      "    self.run()\n",
      "  File \"D:\\PROGRAMAS\\anaconda\\lib\\site-packages\\urx\\ursecmon.py\", line 286, in run\n",
      "    data = self._get_data()\n",
      "  File \"D:\\PROGRAMAS\\anaconda\\lib\\site-packages\\urx\\ursecmon.py\", line 333, in _get_data\n",
      "    tmp = self._s_secondary.recv(1024)\n",
      "socket.timeout: timed out\n",
      "\n",
      "\n"
     ]
    }
   ],
   "source": [
    "import urx\n",
    "rob = urx.Robot(\"192.168.88.249\")\n",
    "initj = rob.getl()\n",
    "xrob = initj[0];\n",
    "#print(\"Initial joint configuration is \", initj)\n",
    "\n",
    "j = rob.getj()\n",
    "#print(\"Initial joint configuration is \", j)\n",
    "t = rob.get_pose()\n",
    "print(\"Transformation from base to tcp is: \", t)\n",
    "\n",
    "t = rob.getl()\n",
    "print(\"Transformation from base to tcp is: \", t)\n",
    "\n"
   ]
  },
  {
   "cell_type": "code",
   "execution_count": 32,
   "metadata": {},
   "outputs": [],
   "source": [
    "rob.speedl((0 , 0 , 0 , 0, 0, 0), acc=0.3, min_time=3)"
   ]
  },
  {
   "cell_type": "code",
   "execution_count": 2,
   "metadata": {},
   "outputs": [
    {
     "name": "stdout",
     "output_type": "stream",
     "text": [
      "D:\\PROGRAMAS\\anaconda\\lib\\site-packages\\urx\\__init__.py\n"
     ]
    }
   ],
   "source": [
    "print(urx.__file__)"
   ]
  },
  {
   "cell_type": "code",
   "execution_count": 7,
   "metadata": {},
   "outputs": [
    {
     "name": "stdout",
     "output_type": "stream",
     "text": [
      "Requirement already satisfied: urx in d:\\programas\\anaconda\\lib\\site-packages (0.11.0)\n",
      "Requirement already satisfied: math3d in d:\\programas\\anaconda\\lib\\site-packages (from urx) (3.3.5)\n",
      "Note: you may need to restart the kernel to use updated packages.\n"
     ]
    }
   ],
   "source": [
    "pip install urx"
   ]
  },
  {
   "cell_type": "code",
   "execution_count": 6,
   "metadata": {},
   "outputs": [
    {
     "name": "stdout",
     "output_type": "stream",
     "text": [
      "[-2.890125576649801, -1.3681228796588343, -1.6626938025103968, 4.785619735717773, 1.6386256217956543, -18.411745589955736]\n"
     ]
    },
    {
     "name": "stderr",
     "output_type": "stream",
     "text": [
      "Exception in thread Thread-10:\n",
      "Traceback (most recent call last):\n",
      "  File \"D:\\PROGRAMAS\\anaconda\\lib\\threading.py\", line 917, in _bootstrap_inner\n",
      "    self.run()\n",
      "  File \"D:\\PROGRAMAS\\anaconda\\lib\\site-packages\\urx\\ursecmon.py\", line 286, in run\n",
      "    data = self._get_data()\n",
      "  File \"D:\\PROGRAMAS\\anaconda\\lib\\site-packages\\urx\\ursecmon.py\", line 333, in _get_data\n",
      "    tmp = self._s_secondary.recv(1024)\n",
      "socket.timeout: timed out\n",
      "\n"
     ]
    }
   ],
   "source": [
    "print(j)"
   ]
  },
  {
   "cell_type": "code",
   "execution_count": null,
   "metadata": {},
   "outputs": [],
   "source": []
  }
 ],
 "metadata": {
  "kernelspec": {
   "display_name": "Python 3",
   "language": "python",
   "name": "python3"
  },
  "language_info": {
   "codemirror_mode": {
    "name": "ipython",
    "version": 3
   },
   "file_extension": ".py",
   "mimetype": "text/x-python",
   "name": "python",
   "nbconvert_exporter": "python",
   "pygments_lexer": "ipython3",
   "version": "3.7.3"
  }
 },
 "nbformat": 4,
 "nbformat_minor": 2
}
