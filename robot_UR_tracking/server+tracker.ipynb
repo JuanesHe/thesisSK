{
 "cells": [
  {
   "cell_type": "code",
   "execution_count": 1,
   "metadata": {},
   "outputs": [],
   "source": [
    "import socket\n",
    "import struct\n",
    "\n",
    "import triad_openvr as vr\n",
    "import pylab as plt\n",
    "import time\n",
    "import sys\n",
    "import numpy as np"
   ]
  },
  {
   "cell_type": "code",
   "execution_count": 2,
   "metadata": {},
   "outputs": [],
   "source": [
    "n=1000\n",
    "x=np.zeros(n)\n",
    "y=np.zeros(n)\n",
    "z=np.zeros(n)\n",
    "t=np.zeros(n)\n",
    "t[0]=0\n",
    "i=0"
   ]
  },
  {
   "cell_type": "code",
   "execution_count": 3,
   "metadata": {},
   "outputs": [],
   "source": [
    "localIP     = \"172.31.1.57\"\n",
    "localPort   = 30001\n",
    "bufferSize  = 1024\n"
   ]
  },
  {
   "cell_type": "code",
   "execution_count": 4,
   "metadata": {},
   "outputs": [],
   "source": [
    "msgFromServer       = \"Hola\"\n",
    "bytesToSend         = str.encode(msgFromServer)"
   ]
  },
  {
   "cell_type": "code",
   "execution_count": 5,
   "metadata": {},
   "outputs": [
    {
     "name": "stdout",
     "output_type": "stream",
     "text": [
      "UDP server up and listening\n"
     ]
    }
   ],
   "source": [
    "# Create a datagram socket\n",
    "\n",
    "UDPServerSocket = socket.socket(family=socket.AF_INET, type=socket.SOCK_DGRAM)\n",
    "# Bind to address and ip\n",
    "UDPServerSocket.bind((localIP, localPort))\n",
    "print(\"UDP server up and listening\")\n",
    "# Listen for incoming datagrams"
   ]
  },
  {
   "cell_type": "code",
   "execution_count": 5,
   "metadata": {},
   "outputs": [
    {
     "ename": "AttributeError",
     "evalue": "module 'openvr' has no attribute 'triad_openvr'",
     "output_type": "error",
     "traceback": [
      "\u001b[1;31m---------------------------------------------------------------------------\u001b[0m",
      "\u001b[1;31mAttributeError\u001b[0m                            Traceback (most recent call last)",
      "\u001b[1;32m<ipython-input-5-901b9b355fe4>\u001b[0m in \u001b[0;36m<module>\u001b[1;34m\u001b[0m\n\u001b[1;32m----> 1\u001b[1;33m \u001b[0mv\u001b[0m \u001b[1;33m=\u001b[0m \u001b[0mvr\u001b[0m\u001b[1;33m.\u001b[0m\u001b[0mtriad_openvr\u001b[0m\u001b[1;33m(\u001b[0m\u001b[1;33m)\u001b[0m\u001b[1;33m\u001b[0m\u001b[1;33m\u001b[0m\u001b[0m\n\u001b[0m\u001b[0;32m      2\u001b[0m \u001b[0mdata\u001b[0m \u001b[1;33m=\u001b[0m \u001b[0mv\u001b[0m\u001b[1;33m.\u001b[0m\u001b[0mdevices\u001b[0m\u001b[1;33m[\u001b[0m\u001b[1;34m\"controller_1\"\u001b[0m\u001b[1;33m]\u001b[0m\u001b[1;33m.\u001b[0m\u001b[0msample\u001b[0m\u001b[1;33m(\u001b[0m\u001b[1;36m1\u001b[0m\u001b[1;33m,\u001b[0m\u001b[1;36m2000\u001b[0m\u001b[1;33m)\u001b[0m\u001b[1;33m\u001b[0m\u001b[1;33m\u001b[0m\u001b[0m\n\u001b[0;32m      3\u001b[0m \u001b[0mb\u001b[0m\u001b[1;33m=\u001b[0m\u001b[0mdata\u001b[0m\u001b[1;33m.\u001b[0m\u001b[0mx\u001b[0m\u001b[1;33m+\u001b[0m\u001b[0mdata\u001b[0m\u001b[1;33m.\u001b[0m\u001b[0my\u001b[0m\u001b[1;33m+\u001b[0m\u001b[0mdata\u001b[0m\u001b[1;33m.\u001b[0m\u001b[0mz\u001b[0m\u001b[1;33m\u001b[0m\u001b[1;33m\u001b[0m\u001b[0m\n\u001b[0;32m      4\u001b[0m \u001b[1;32mdel\u001b[0m \u001b[0mv\u001b[0m\u001b[1;33m\u001b[0m\u001b[1;33m\u001b[0m\u001b[0m\n",
      "\u001b[1;31mAttributeError\u001b[0m: module 'openvr' has no attribute 'triad_openvr'"
     ]
    }
   ],
   "source": [
    "v = vr.triad_openvr()\n",
    "data = v.devices[\"controller_1\"].sample(1,2000)\n",
    "b=data.x+data.y+data.z\n",
    "del v"
   ]
  },
  {
   "cell_type": "code",
   "execution_count": 6,
   "metadata": {},
   "outputs": [
    {
     "name": "stdout",
     "output_type": "stream",
     "text": [
      "b'Mode'\n",
      "('172.31.1.147', 18000)\n",
      "Send Value\n",
      "Send Value\n"
     ]
    },
    {
     "ename": "NameError",
     "evalue": "name 'tiempoi' is not defined",
     "output_type": "error",
     "traceback": [
      "\u001b[1;31m---------------------------------------------------------------------------\u001b[0m",
      "\u001b[1;31mNameError\u001b[0m                                 Traceback (most recent call last)",
      "\u001b[1;32m<ipython-input-6-1cb7f6933801>\u001b[0m in \u001b[0;36m<module>\u001b[1;34m\u001b[0m\n\u001b[0;32m     42\u001b[0m \u001b[1;33m\u001b[0m\u001b[0m\n\u001b[0;32m     43\u001b[0m     \u001b[0mtiempof\u001b[0m \u001b[1;33m=\u001b[0m \u001b[0mtime\u001b[0m\u001b[1;33m.\u001b[0m\u001b[0mtime\u001b[0m\u001b[1;33m(\u001b[0m\u001b[1;33m)\u001b[0m\u001b[1;33m\u001b[0m\u001b[1;33m\u001b[0m\u001b[0m\n\u001b[1;32m---> 44\u001b[1;33m     \u001b[0mtiempoe\u001b[0m \u001b[1;33m=\u001b[0m \u001b[0mtiempof\u001b[0m \u001b[1;33m-\u001b[0m \u001b[0mtiempoi\u001b[0m\u001b[1;33m\u001b[0m\u001b[1;33m\u001b[0m\u001b[0m\n\u001b[0m\u001b[0;32m     45\u001b[0m     \u001b[0mt\u001b[0m\u001b[1;33m[\u001b[0m\u001b[0mi\u001b[0m\u001b[1;33m]\u001b[0m\u001b[1;33m=\u001b[0m\u001b[0mt\u001b[0m\u001b[1;33m[\u001b[0m\u001b[0mi\u001b[0m\u001b[1;33m-\u001b[0m\u001b[1;36m1\u001b[0m\u001b[1;33m]\u001b[0m\u001b[1;33m+\u001b[0m\u001b[0mtiempoe\u001b[0m\u001b[1;33m\u001b[0m\u001b[1;33m\u001b[0m\u001b[0m\n\u001b[0;32m     46\u001b[0m     \u001b[0mprint\u001b[0m\u001b[1;33m(\u001b[0m\u001b[0mstr\u001b[0m\u001b[1;33m(\u001b[0m\u001b[0mdata\u001b[0m\u001b[1;33m.\u001b[0m\u001b[0mx\u001b[0m\u001b[1;33m)\u001b[0m \u001b[1;33m+\u001b[0m \u001b[1;34m\" \"\u001b[0m \u001b[1;33m+\u001b[0m \u001b[0mstr\u001b[0m\u001b[1;33m(\u001b[0m\u001b[0mdata\u001b[0m\u001b[1;33m.\u001b[0m\u001b[0my\u001b[0m\u001b[1;33m)\u001b[0m \u001b[1;33m+\u001b[0m \u001b[1;34m\" \"\u001b[0m \u001b[1;33m+\u001b[0m \u001b[0mstr\u001b[0m\u001b[1;33m(\u001b[0m\u001b[0mdata\u001b[0m\u001b[1;33m.\u001b[0m\u001b[0mz\u001b[0m\u001b[1;33m)\u001b[0m \u001b[1;33m+\u001b[0m \u001b[1;34m\" \"\u001b[0m \u001b[1;33m+\u001b[0m \u001b[0mstr\u001b[0m\u001b[1;33m(\u001b[0m\u001b[0mtiempoe\u001b[0m\u001b[1;33m)\u001b[0m\u001b[1;33m)\u001b[0m\u001b[1;33m\u001b[0m\u001b[1;33m\u001b[0m\u001b[0m\n",
      "\u001b[1;31mNameError\u001b[0m: name 'tiempoi' is not defined"
     ]
    }
   ],
   "source": [
    "while(True):\n",
    "    \n",
    "\n",
    "\n",
    "    bytesAddressPair = UDPServerSocket.recvfrom(bufferSize)\n",
    "\n",
    "    message = bytesAddressPair[0]\n",
    "\n",
    "    address = bytesAddressPair[1]\n",
    "\n",
    "    clientMsg = \"{}\".format(message)    clientMsg = \"{}\".format(message)\n",
    "\n",
    "    \n",
    "    clientIP  = \"{}\".format(address)\n",
    "    \n",
    "    print(clientMsg)\n",
    "    \n",
    "    print(clientIP)\n",
    "\n",
    "    if clientMsg == \"b'cmdx'\":\n",
    "        print(\"Send Value\")\n",
    "        value = 1000\n",
    "        ba = bytearray(struct.pack(\"f\", value))\n",
    "    elif clientMsg == \"b'cmdy'\":\n",
    "        print(\"Send Value\")\n",
    "        value = 1000\n",
    "        ba = bytearray(struct.pack(\"f\", value))    \n",
    "    elif clientMsg == \"b'cmdz'\":\n",
    "        print(\"Send Value\")\n",
    "        value = 0\n",
    "        ba = bytearray(struct.pack(\"f\", value))  \n",
    "    elif clientMsg == \"b'Mode'\":\n",
    "        ba = b'Aut'\n",
    "        print(\"Send Value\")\n",
    "          \n",
    "    else :\n",
    "        print(\"Send\")\n",
    "\n",
    "\n",
    "\n",
    "    UDPServerSocket.sendto(ba, address)\n",
    "    print(\"Send Value\")\n",
    "    \n",
    "    tiempof = time.time() \n",
    "    tiempoe = tiempof - tiempoi\n",
    "    t[i]=t[i-1]+tiempoe\n",
    "    print(str(data.x) + \" \" + str(data.y) + \" \" + str(data.z) + \" \" + str(tiempoe))\n",
    "\n",
    "    # Sending a reply to client"
   ]
  },
  {
   "cell_type": "code",
   "execution_count": null,
   "metadata": {},
   "outputs": [],
   "source": []
  },
  {
   "cell_type": "code",
   "execution_count": null,
   "metadata": {},
   "outputs": [],
   "source": []
  }
 ],
 "metadata": {
  "kernelspec": {
   "display_name": "Python 3",
   "language": "python",
   "name": "python3"
  },
  "language_info": {
   "codemirror_mode": {
    "name": "ipython",
    "version": 3
   },
   "file_extension": ".py",
   "mimetype": "text/x-python",
   "name": "python",
   "nbconvert_exporter": "python",
   "pygments_lexer": "ipython3",
   "version": "3.7.3"
  }
 },
 "nbformat": 4,
 "nbformat_minor": 2
}
