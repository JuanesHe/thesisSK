{
 "cells": [
  {
   "cell_type": "code",
   "execution_count": 30,
   "metadata": {},
   "outputs": [],
   "source": [
    "import scipy.io\n",
    "import numpy as np\n",
    "import urx\n",
    "\n",
    "rob = urx.Robot(\"192.168.0.100\")\n"
   ]
  },
  {
   "cell_type": "code",
   "execution_count": 56,
   "metadata": {},
   "outputs": [],
   "source": [
    "def Jacobian(q1,q2,q3,q4,q5,q6):\n",
    "    import numpy as np\n",
    "    JA11 = (float) (2247*cos(q1))/20000 + (819*cos(q1)*cos(q5))/10000 + (4873*cos(q2)*sin(q1))/20000 - (1707*cos(q4)*(cos(q2)*sin(q1)*sin(q3) + cos(q3)*sin(q1)*sin(q2)))/20000 + (1707*sin(q4)*(sin(q1)*sin(q2)*sin(q3) - cos(q2)*cos(q3)*sin(q1)))/20000 - (819*sin(q5)*(cos(q4)*(sin(q1)*sin(q2)*sin(q3) - cos(q2)*cos(q3)*sin(q1)) + sin(q4)*(cos(q2)*sin(q1)*sin(q3) + cos(q3)*sin(q1)*sin(q2))))/10000 - (853*sin(q1)*sin(q2)*sin(q3))/4000 + (853*cos(q2)*cos(q3)*sin(q1))/4000\n",
    "    JA12 = float (4873*cos(q1)*sin(q2))/20000 + (1707*cos(q4)*(cos(q1)*cos(q2)*cos(q3) - cos(q1)*sin(q2)*sin(q3)))/20000 - (1707*sin(q4)*(cos(q1)*cos(q2)*sin(q3) + cos(q1)*cos(q3)*sin(q2)))/20000 + (819*sin(q5)*(cos(q4)*(cos(q1)*cos(q2)*sin(q3) + cos(q1)*cos(q3)*sin(q2)) + sin(q4)*(cos(q1)*cos(q2)*cos(q3) - cos(q1)*sin(q2)*sin(q3))))/10000 + (853*cos(q1)*cos(q2)*sin(q3))/4000 + (853*cos(q1)*cos(q3)*sin(q2))/4000\n",
    "    JA13 = float (1707*cos(q4)*(cos(q1)*cos(q2)*cos(q3) - cos(q1)*sin(q2)*sin(q3)))/20000 - (1707*sin(q4)*(cos(q1)*cos(q2)*sin(q3) + cos(q1)*cos(q3)*sin(q2)))/20000 + (819*sin(q5)*(cos(q4)*(cos(q1)*cos(q2)*sin(q3) + cos(q1)*cos(q3)*sin(q2)) + sin(q4)*(cos(q1)*cos(q2)*cos(q3) - cos(q1)*sin(q2)*sin(q3))))/10000 + (853*cos(q1)*cos(q2)*sin(q3))/4000 + (853*cos(q1)*cos(q3)*sin(q2))/4000\n",
    "    JA14 = float (1707*cos(q4)*(cos(q1)*cos(q2)*cos(q3) - cos(q1)*sin(q2)*sin(q3)))/20000 - (1707*sin(q4)*(cos(q1)*cos(q2)*sin(q3) + cos(q1)*cos(q3)*sin(q2)))/20000 + (819*sin(q5)*(cos(q4)*(cos(q1)*cos(q2)*sin(q3) + cos(q1)*cos(q3)*sin(q2)) + sin(q4)*(cos(q1)*cos(q2)*cos(q3) - cos(q1)*sin(q2)*sin(q3))))/10000\n",
    "    JA15 = float (- (819*sin(q1)*sin(q5))/10000 - (819*cos(q5)*(cos(q4)*(cos(q1)*cos(q2)*cos(q3) - cos(q1)*sin(q2)*sin(q3)) - sin(q4)*(cos(q1)*cos(q2)*sin(q3) + cos(q1)*cos(q3)*sin(q2))))/10000)\n",
    "    JA16 = 0\n",
    "    JA21 = float (2247*sin(q1))/20000 - (4873*cos(q1)*cos(q2))/20000 + (819*cos(q5)*sin(q1))/10000 + (1707*cos(q4)*(cos(q1)*cos(q2)*sin(q3) + cos(q1)*cos(q3)*sin(q2)))/20000 + (1707*sin(q4)*(cos(q1)*cos(q2)*cos(q3) - cos(q1)*sin(q2)*sin(q3)))/20000 - (819*sin(q5)*(cos(q4)*(cos(q1)*cos(q2)*cos(q3) - cos(q1)*sin(q2)*sin(q3)) - sin(q4)*(cos(q1)*cos(q2)*sin(q3) + cos(q1)*cos(q3)*sin(q2))))/10000 - (853*cos(q1)*cos(q2)*cos(q3))/4000 + (853*cos(q1)*sin(q2)*sin(q3))/4000\n",
    "    JA22 = float (4873*sin(q1)*sin(q2))/20000 - (1707*cos(q4)*(sin(q1)*sin(q2)*sin(q3) - cos(q2)*cos(q3)*sin(q1)))/20000 - (1707*sin(q4)*(cos(q2)*sin(q1)*sin(q3) + cos(q3)*sin(q1)*sin(q2)))/20000 + (819*sin(q5)*(cos(q4)*(cos(q2)*sin(q1)*sin(q3) + cos(q3)*sin(q1)*sin(q2)) - sin(q4)*(sin(q1)*sin(q2)*sin(q3) - cos(q2)*cos(q3)*sin(q1))))/10000 + (853*cos(q2)*sin(q1)*sin(q3))/4000 + (853*cos(q3)*sin(q1)*sin(q2))/4000\n",
    "    JA23 = float (819*sin(q5)*(cos(q4)*(cos(q2)*sin(q1)*sin(q3) + cos(q3)*sin(q1)*sin(q2)) - sin(q4)*(sin(q1)*sin(q2)*sin(q3) - cos(q2)*cos(q3)*sin(q1))))/10000 - (1707*sin(q4)*(cos(q2)*sin(q1)*sin(q3) + cos(q3)*sin(q1)*sin(q2)))/20000 - (1707*cos(q4)*(sin(q1)*sin(q2)*sin(q3) - cos(q2)*cos(q3)*sin(q1)))/20000 + (853*cos(q2)*sin(q1)*sin(q3))/4000 + (853*cos(q3)*sin(q1)*sin(q2))/4000\n",
    "    JA24 = float (819*sin(q5)*(cos(q4)*(cos(q2)*sin(q1)*sin(q3) + cos(q3)*sin(q1)*sin(q2)) - sin(q4)*(sin(q1)*sin(q2)*sin(q3) - cos(q2)*cos(q3)*sin(q1))))/10000 - (1707*sin(q4)*(cos(q2)*sin(q1)*sin(q3) + cos(q3)*sin(q1)*sin(q2)))/20000 - (1707*cos(q4)*(sin(q1)*sin(q2)*sin(q3) - cos(q2)*cos(q3)*sin(q1)))/20000\n",
    "    JA25 = float (819*cos(q1)*sin(q5))/10000 + (819*cos(q5)*(cos(q4)*(sin(q1)*sin(q2)*sin(q3) - cos(q2)*cos(q3)*sin(q1)) + sin(q4)*(cos(q2)*sin(q1)*sin(q3) + cos(q3)*sin(q1)*sin(q2))))/10000\n",
    "    JA26 = 0\n",
    "    JA31 = 0\n",
    "    JA32 = float (853*sin(q2)*sin(q3))/4000 - (853*cos(q2)*cos(q3))/4000 - (4873*cos(q2))/20000 - (819*sin(q5)*(cos(q4)*(cos(q2)*cos(q3) - sin(q2)*sin(q3)) - sin(q4)*(cos(q2)*sin(q3) + cos(q3)*sin(q2))))/10000 + (1707*cos(q4)*(cos(q2)*sin(q3) + cos(q3)*sin(q2)))/20000 + (1707*sin(q4)*(cos(q2)*cos(q3) - sin(q2)*sin(q3)))/20000\n",
    "    JA33 = float (853*sin(q2)*sin(q3))/4000 - (853*cos(q2)*cos(q3))/4000 - (819*sin(q5)*(cos(q4)*(cos(q2)*cos(q3) - sin(q2)*sin(q3)) - sin(q4)*(cos(q2)*sin(q3) + cos(q3)*sin(q2))))/10000 + (1707*cos(q4)*(cos(q2)*sin(q3) + cos(q3)*sin(q2)))/20000 + (1707*sin(q4)*(cos(q2)*cos(q3) - sin(q2)*sin(q3)))/20000\n",
    "    JA34 = float (1707*cos(q4)*(cos(q2)*sin(q3) + cos(q3)*sin(q2)))/20000 - (819*sin(q5)*(cos(q4)*(cos(q2)*cos(q3) - sin(q2)*sin(q3)) - sin(q4)*(cos(q2)*sin(q3) + cos(q3)*sin(q2))))/10000 + (1707*sin(q4)*(cos(q2)*cos(q3) - sin(q2)*sin(q3)))/20000\n",
    "    JA35 = float (-(819*cos(q5)*(cos(q4)*(cos(q2)*sin(q3) + cos(q3)*sin(q2)) + sin(q4)*(cos(q2)*cos(q3) - sin(q2)*sin(q3))))/10000)\n",
    "    JA36 = 0\n",
    "    JA = np.matrix([[JA11,JA12,JA13,JA14,JA15,JA16],[JA21,JA22,JA23,JA24,JA25,JA26],[JA31,JA32,JA33,JA34,JA35,JA36]])\n",
    "    return (JA)"
   ]
  },
  {
   "cell_type": "code",
   "execution_count": 57,
   "metadata": {},
   "outputs": [],
   "source": [
    "def pos_rob(q1,q2,q3,q4,q5,q6):\n",
    "    x = (2247*sin(q1))/20000 - (4873*cos(q1)*cos(q2))/20000 + (819*cos(q5)*sin(q1))/10000 + (1707*cos(q4)*(cos(q1)*cos(q2)*sin(q3) + cos(q1)*cos(q3)*sin(q2)))/20000 + (1707*sin(q4)*(cos(q1)*cos(q2)*cos(q3) - cos(q1)*sin(q2)*sin(q3)))/20000 - (819*sin(q5)*(cos(q4)*(cos(q1)*cos(q2)*cos(q3) - cos(q1)*sin(q2)*sin(q3)) - sin(q4)*(cos(q1)*cos(q2)*sin(q3) + cos(q1)*cos(q3)*sin(q2))))/10000 - (853*cos(q1)*cos(q2)*cos(q3))/4000 + (853*cos(q1)*sin(q2)*sin(q3))\n",
    "    y = (1707*cos(q4)*(cos(q2)*sin(q1)*sin(q3) + cos(q3)*sin(q1)*sin(q2)))/20000 - (819*cos(q1)*cos(q5))/10000 - (4873*cos(q2)*sin(q1))/20000 - (2247*cos(q1))/20000 - (1707*sin(q4)*(sin(q1)*sin(q2)*sin(q3) - cos(q2)*cos(q3)*sin(q1)))/20000 + (819*sin(q5)*(cos(q4)*(sin(q1)*sin(q2)*sin(q3) - cos(q2)*cos(q3)*sin(q1)) + sin(q4)*(cos(q2)*sin(q1)*sin(q3) + cos(q3)*sin(q1)*sin(q2))))/10000 + (853*sin(q1)*sin(q2)*sin(q3))/4000 - (853*cos(q2)*cos(q3)*sin(q1))/4000\n",
    "    z = (1707*sin(q4)*(cos(q2)*sin(q3) + cos(q3)*sin(q2)))/20000 - (853*cos(q2)*sin(q3))/4000 - (853*cos(q3)*sin(q2))/4000 - (819*sin(q5)*(cos(q4)*(cos(q2)*sin(q3) + cos(q3)*sin(q2)) + sin(q4)*(cos(q2)*cos(q3) - sin(q2)*sin(q3))))/10000 - (1707*cos(q4)*(cos(q2)*cos(q3) - sin(q2)*sin(q3)))/20000 - (4873*sin(q2))/20000 + 1519/10000\n",
    "    h = [float(x),float(y),float(z)]\n",
    "    return h"
   ]
  },
  {
   "cell_type": "code",
   "execution_count": 58,
   "metadata": {},
   "outputs": [
    {
     "data": {
      "text/plain": [
       "matrix([[0.194250000000000, 0.0853500000000000, 0.0853500000000000,\n",
       "         0.0853500000000000, -0.0819, 0],\n",
       "        [-0.456900000000000, 0, 0, 0, 0, 0],\n",
       "        [0, -0.456900000000000, -0.213250000000000, 0, 0.0, 0]],\n",
       "       dtype=object)"
      ]
     },
     "execution_count": 58,
     "metadata": {},
     "output_type": "execute_result"
    }
   ],
   "source": [
    "Jacobian(0,0,0,0,0,0)"
   ]
  },
  {
   "cell_type": "code",
   "execution_count": null,
   "metadata": {},
   "outputs": [],
   "source": []
  }
 ],
 "metadata": {
  "kernelspec": {
   "display_name": "Python 3",
   "language": "python",
   "name": "python3"
  },
  "language_info": {
   "codemirror_mode": {
    "name": "ipython",
    "version": 3
   },
   "file_extension": ".py",
   "mimetype": "text/x-python",
   "name": "python",
   "nbconvert_exporter": "python",
   "pygments_lexer": "ipython3",
   "version": "3.7.3"
  }
 },
 "nbformat": 4,
 "nbformat_minor": 2
}
